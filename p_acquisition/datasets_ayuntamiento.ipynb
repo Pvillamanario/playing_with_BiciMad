{
 "cells": [
  {
   "cell_type": "code",
   "execution_count": 1,
   "metadata": {},
   "outputs": [],
   "source": [
    "# Fetching Ayto. datasets"
   ]
  },
  {
   "cell_type": "code",
   "execution_count": 2,
   "metadata": {},
   "outputs": [],
   "source": [
    "import pandas as pd\n",
    "import requests"
   ]
  },
  {
   "cell_type": "code",
   "execution_count": 3,
   "metadata": {},
   "outputs": [],
   "source": [
    "# Project datasets:\n",
    "\n",
    "ayto_datasets_base_url = 'https://datos.madrid.es/egob'\n",
    "\n",
    "datasets_dict = {\n",
    "    'Aparcamientos públicos municipales'                                        :'/catalogo/202625-0-aparcamientos-publicos.json',\n",
    "    'Aparcamientos públicos municipales disuasorios'                            :'/catalogo/300531-0-aparcamientos-publicos.json',\n",
    "    'Aparcamientos municipales para residentes (PAR)'                           :'/catalogo/202584-0-aparcamientos-residentes.json',\n",
    "    'Monumentos de la ciudad de Madrid'                                         :'/catalogo/300356-0-monumentos-ciudad-madrid.json',\n",
    "    'Sedes. Centros de Atención Médica'                                         :'/catalogo/212769-0-atencion-medica.json',\n",
    "    'Sedes. Centros con Espacios Deportivos'                                    :'/catalogo/212808-0-espacio-deporte.json',\n",
    "    'Templos e iglesias católicas'                                              :'/catalogo/209426-0-templos-catolicas.json',\n",
    "    'Templos e iglesias no católicas'                                           :'/catalogo/209434-0-templos-otros.json',\n",
    "    'Edificios de carácter monumental'                                          :'/catalogo/208844-0-monumentos-edificios.json',\n",
    "    'Embajadas y Consulados'                                                    :'/catalogo/201000-0-embajadas-consulados.json',\n",
    "    'Museos de la ciudad de Madrid'                                             :'/catalogo/201132-0-museos.json',\n",
    "    'Deportes. Instalaciones Deportivas Básicas Municipales'                    :'/catalogo/200215-0-instalaciones-deportivas.json',\n",
    "    'Principales parques y jardines municipales'                                :'/catalogo/200761-0-parques-jardines.json',\n",
    "    'Centros Culturales Municipales (incluyen Socioculturales y Juveniles)'     :'/catalogo/200304-0-centros-culturales.json',\n",
    "    'Escuelas Infantiles Municipales'                                           :'/catalogo/202318-0-escuelas-infantiles.json',\n",
    "    'Colegios Públicos de Madrid'                                               :'/catalogo/202311-0-colegios-publicos.json'\n",
    "}"
   ]
  },
  {
   "cell_type": "code",
   "execution_count": 4,
   "metadata": {},
   "outputs": [
    {
     "data": {
      "text/plain": [
       "['Aparcamientos públicos municipales',\n",
       " 'Aparcamientos públicos municipales disuasorios',\n",
       " 'Aparcamientos municipales para residentes (PAR)',\n",
       " 'Monumentos de la ciudad de Madrid',\n",
       " 'Sedes. Centros de Atención Médica',\n",
       " 'Sedes. Centros con Espacios Deportivos',\n",
       " 'Templos e iglesias católicas',\n",
       " 'Templos e iglesias no católicas',\n",
       " 'Edificios de carácter monumental',\n",
       " 'Embajadas y Consulados',\n",
       " 'Museos de la ciudad de Madrid',\n",
       " 'Deportes. Instalaciones Deportivas Básicas Municipales',\n",
       " 'Principales parques y jardines municipales',\n",
       " 'Centros Culturales Municipales (incluyen Socioculturales y Juveniles)',\n",
       " 'Escuelas Infantiles Municipales',\n",
       " 'Colegios Públicos de Madrid']"
      ]
     },
     "execution_count": 4,
     "metadata": {},
     "output_type": "execute_result"
    }
   ],
   "source": [
    "list(datasets_dict.keys())"
   ]
  },
  {
   "cell_type": "code",
   "execution_count": 6,
   "metadata": {},
   "outputs": [
    {
     "data": {
      "text/plain": [
       "'https://datos.madrid.es/egob/catalogo/202625-0-aparcamientos-publicos.json'"
      ]
     },
     "execution_count": 6,
     "metadata": {},
     "output_type": "execute_result"
    }
   ],
   "source": [
    "dataset_test = list(datasets_dict.keys())[0]\n",
    "dataset_url = ayto_datasets_base_url + datasets_dict[dataset_test]\n",
    "dataset_url"
   ]
  },
  {
   "cell_type": "code",
   "execution_count": 7,
   "metadata": {},
   "outputs": [
    {
     "name": "stdout",
     "output_type": "stream",
     "text": [
      "<Response [200]>\n"
     ]
    }
   ],
   "source": [
    "response = requests.get(dataset_url)\n",
    "print(response)"
   ]
  },
  {
   "cell_type": "code",
   "execution_count": 8,
   "metadata": {},
   "outputs": [],
   "source": [
    "json_data = response.json()"
   ]
  },
  {
   "cell_type": "code",
   "execution_count": null,
   "metadata": {},
   "outputs": [],
   "source": [
    "# OK_title_nombre_lugar\n",
    "for i in range(len(json_data['@graph'])):\n",
    "    print(json_data['@graph'][i]['title'])"
   ]
  },
  {
   "cell_type": "code",
   "execution_count": null,
   "metadata": {},
   "outputs": [],
   "source": [
    "# OK_dirección\n",
    "for i in range(len(json_data['@graph'])):\n",
    "    print(json_data['@graph'][i]['address']['street-address'])"
   ]
  },
  {
   "cell_type": "code",
   "execution_count": null,
   "metadata": {},
   "outputs": [],
   "source": [
    "# OK_código postal\n",
    "for i in range(len(json_data['@graph'])):\n",
    "    print(json_data['@graph'][i]['address']['postal-code'])"
   ]
  },
  {
   "cell_type": "code",
   "execution_count": null,
   "metadata": {},
   "outputs": [],
   "source": [
    "# OK_coordenadas\n",
    "for i in range(len(json_data['@graph'])):\n",
    "    print(json_data['@graph'][i]['location']['latitude'])\n",
    "\n",
    "for i in range(len(json_data['@graph'])):\n",
    "    print(json_data['@graph'][i]['location']['longitude'])"
   ]
  },
  {
   "cell_type": "code",
   "execution_count": 10,
   "metadata": {},
   "outputs": [],
   "source": [
    "def retrieve_datasets_ayto(data_dic):\n",
    "    \n",
    "    df_datasets_ayto = pd.DataFrame(columns=['dataset', 'name', 'address', 'zip_code', 'longitude', 'latitude'])\n",
    "\n",
    "    for x in list(data_dic.keys()):\n",
    "\n",
    "        dataset_test = x\n",
    "\n",
    "        dataset_url = ayto_datasets_base_url + data_dic[dataset_test]\n",
    "            \n",
    "        response = requests.get(dataset_url)\n",
    "\n",
    "        json_data = response.json()\n",
    "\n",
    "        for i in range(len(json_data['@graph'])):\n",
    "            try:\n",
    "                row ={\n",
    "                    'dataset':      dataset_test,\n",
    "                    'name':         json_data['@graph'][i]['title'],\n",
    "                    'address':      json_data['@graph'][i]['address']['street-address'],\n",
    "                    'zip_code':     int(json_data['@graph'][i]['address']['postal-code']),\n",
    "                    'longitude':    int(json_data['@graph'][i]['location']['longitude']),\n",
    "                    'latitude':     int(json_data['@graph'][i]['location']['latitude']) \n",
    "                }\n",
    "            except:\n",
    "                row ={\n",
    "                    'dataset':      dataset_test,\n",
    "                    'name':         json_data['@graph'][i]['title'],\n",
    "                    'address':      'ERROR',\n",
    "                    'zip_code':     'ERROR',\n",
    "                    'longitude':    'ERROR',\n",
    "                    'latitude':     'ERROR' \n",
    "                }\n",
    "            df_datasets_ayto = df_datasets_ayto.append(row, ignore_index=True)\n",
    "        \n",
    "    return df_datasets_ayto\n",
    "\n"
   ]
  },
  {
   "cell_type": "code",
   "execution_count": 11,
   "metadata": {},
   "outputs": [],
   "source": [
    "test = retrieve_datasets_ayto(datasets_dict)"
   ]
  },
  {
   "cell_type": "code",
   "execution_count": 13,
   "metadata": {},
   "outputs": [
    {
     "name": "stdout",
     "output_type": "stream",
     "text": [
      "<class 'pandas.core.frame.DataFrame'>\n",
      "RangeIndex: 5180 entries, 0 to 5179\n",
      "Data columns (total 6 columns):\n",
      " #   Column     Non-Null Count  Dtype \n",
      "---  ------     --------------  ----- \n",
      " 0   dataset    5180 non-null   object\n",
      " 1   name       5180 non-null   object\n",
      " 2   address    5180 non-null   object\n",
      " 3   zip_code   5180 non-null   object\n",
      " 4   longitude  5180 non-null   object\n",
      " 5   latitude   5180 non-null   object\n",
      "dtypes: object(6)\n",
      "memory usage: 242.9+ KB\n"
     ]
    }
   ],
   "source": [
    "#test.to_csv('../data/test.csv', index=False)\n",
    "test.info()"
   ]
  },
  {
   "cell_type": "code",
   "execution_count": null,
   "metadata": {},
   "outputs": [],
   "source": []
  }
 ],
 "metadata": {
  "interpreter": {
   "hash": "f72e6917b6f16e696186786cd8e09f8c34e6fed89ee06203567b7273a7eaaf8e"
  },
  "kernelspec": {
   "display_name": "Python 3.9.7 64-bit ('project_1_env': conda)",
   "language": "python",
   "name": "python3"
  },
  "language_info": {
   "codemirror_mode": {
    "name": "ipython",
    "version": 3
   },
   "file_extension": ".py",
   "mimetype": "text/x-python",
   "name": "python",
   "nbconvert_exporter": "python",
   "pygments_lexer": "ipython3",
   "version": "3.9.7"
  },
  "orig_nbformat": 4
 },
 "nbformat": 4,
 "nbformat_minor": 2
}
