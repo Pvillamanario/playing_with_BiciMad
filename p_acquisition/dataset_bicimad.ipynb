{
 "cells": [
  {
   "cell_type": "code",
   "execution_count": 1,
   "metadata": {},
   "outputs": [],
   "source": [
    "# Azure DB connection"
   ]
  },
  {
   "cell_type": "code",
   "execution_count": 1,
   "metadata": {},
   "outputs": [],
   "source": [
    "import os\n",
    "from dotenv import load_dotenv\n",
    "import pyodbc\n",
    "import sqlalchemy\n",
    "from sqlalchemy import create_engine\n",
    "from sqlalchemy.engine import URL\n",
    "import pandas as pd"
   ]
  },
  {
   "cell_type": "code",
   "execution_count": 2,
   "metadata": {},
   "outputs": [],
   "source": [
    "# Load credentials\n",
    "load_dotenv('.env')\n",
    "AZ_user = os.environ.get('AZURE_DB_USER')\n",
    "AZ_pass = os.environ.get('AZURE_DB_PASS')"
   ]
  },
  {
   "cell_type": "code",
   "execution_count": 3,
   "metadata": {},
   "outputs": [],
   "source": [
    "# Azure DB connection params\n",
    "driver = 'Driver={ODBC Driver 17 for SQL Server};'\n",
    "server = 'Server=tcp:sqlironhack.database.windows.net,1433;'\n",
    "database = 'Database=BiciMAD;'\n",
    "uid = f'Uid={AZ_user};'\n",
    "pwd = f'Pwd={AZ_pass};'\n",
    "config = 'Encrypt=yes;TrustServerCertificate=no;Connection Timeout=30;'"
   ]
  },
  {
   "cell_type": "code",
   "execution_count": 4,
   "metadata": {},
   "outputs": [
    {
     "data": {
      "text/plain": [
       "mssql+pyodbc://?odbc_connect=Driver%3D%7BODBC+Driver+17+for+SQL+Server%7D%3BServer%3Dtcp%3Asqlironhack.database.windows.net%2C1433%3BDatabase%3DBiciMAD%3BUid%3Dazureuser%3BPwd%3DP%40%24%24w0rd123%3BEncrypt%3Dyes%3BTrustServerCertificate%3Dno%3BConnection+Timeout%3D30%3B"
      ]
     },
     "execution_count": 4,
     "metadata": {},
     "output_type": "execute_result"
    }
   ],
   "source": [
    "# connection string assembly\n",
    "\n",
    "connection_string = driver+server+database+uid+pwd+config \n",
    "connection_url = URL.create(\"mssql+pyodbc\", query={\"odbc_connect\": connection_string})\n",
    "connection_url"
   ]
  },
  {
   "cell_type": "code",
   "execution_count": 5,
   "metadata": {},
   "outputs": [
    {
     "data": {
      "text/plain": [
       "sqlalchemy.engine.base.Engine"
      ]
     },
     "execution_count": 5,
     "metadata": {},
     "output_type": "execute_result"
    }
   ],
   "source": [
    "# SQL Engine => dialect+driver (https://docs.sqlalchemy.org/en/14/core/engines.html)\n",
    "\n",
    "engine = create_engine(connection_url)\n",
    "type(engine)"
   ]
  },
  {
   "cell_type": "code",
   "execution_count": 6,
   "metadata": {},
   "outputs": [
    {
     "data": {
      "text/html": [
       "<div>\n",
       "<style scoped>\n",
       "    .dataframe tbody tr th:only-of-type {\n",
       "        vertical-align: middle;\n",
       "    }\n",
       "\n",
       "    .dataframe tbody tr th {\n",
       "        vertical-align: top;\n",
       "    }\n",
       "\n",
       "    .dataframe thead th {\n",
       "        text-align: right;\n",
       "    }\n",
       "</style>\n",
       "<table border=\"1\" class=\"dataframe\">\n",
       "  <thead>\n",
       "    <tr style=\"text-align: right;\">\n",
       "      <th></th>\n",
       "      <th>id</th>\n",
       "      <th>name</th>\n",
       "      <th>light</th>\n",
       "      <th>number</th>\n",
       "      <th>address</th>\n",
       "      <th>activate</th>\n",
       "      <th>no_available</th>\n",
       "      <th>total_bases</th>\n",
       "      <th>dock_bikes</th>\n",
       "      <th>free_bases</th>\n",
       "      <th>reservations_count</th>\n",
       "      <th>geometry_type</th>\n",
       "      <th>geometry_coordinates</th>\n",
       "    </tr>\n",
       "  </thead>\n",
       "  <tbody>\n",
       "    <tr>\n",
       "      <th>0</th>\n",
       "      <td>1</td>\n",
       "      <td>Puerta del Sol A</td>\n",
       "      <td>2</td>\n",
       "      <td>1a</td>\n",
       "      <td>Puerta del Sol nº 1</td>\n",
       "      <td>1</td>\n",
       "      <td>0</td>\n",
       "      <td>30</td>\n",
       "      <td>15</td>\n",
       "      <td>11</td>\n",
       "      <td>0</td>\n",
       "      <td>Point</td>\n",
       "      <td>[-3.7018341, 40.4172137]</td>\n",
       "    </tr>\n",
       "    <tr>\n",
       "      <th>1</th>\n",
       "      <td>2</td>\n",
       "      <td>Puerta del Sol B</td>\n",
       "      <td>1</td>\n",
       "      <td>1b</td>\n",
       "      <td>Puerta del Sol nº 1</td>\n",
       "      <td>1</td>\n",
       "      <td>0</td>\n",
       "      <td>30</td>\n",
       "      <td>22</td>\n",
       "      <td>4</td>\n",
       "      <td>0</td>\n",
       "      <td>Point</td>\n",
       "      <td>[-3.701602938060457, 40.41731271011562]</td>\n",
       "    </tr>\n",
       "    <tr>\n",
       "      <th>2</th>\n",
       "      <td>3</td>\n",
       "      <td>Miguel Moya</td>\n",
       "      <td>2</td>\n",
       "      <td>2</td>\n",
       "      <td>Calle Miguel Moya nº 1</td>\n",
       "      <td>1</td>\n",
       "      <td>0</td>\n",
       "      <td>24</td>\n",
       "      <td>12</td>\n",
       "      <td>11</td>\n",
       "      <td>0</td>\n",
       "      <td>Point</td>\n",
       "      <td>[-3.7058415, 40.4205886]</td>\n",
       "    </tr>\n",
       "    <tr>\n",
       "      <th>3</th>\n",
       "      <td>4</td>\n",
       "      <td>Plaza Conde Suchil</td>\n",
       "      <td>0</td>\n",
       "      <td>3</td>\n",
       "      <td>Plaza del Conde del Valle de Súchil nº 3</td>\n",
       "      <td>1</td>\n",
       "      <td>0</td>\n",
       "      <td>18</td>\n",
       "      <td>4</td>\n",
       "      <td>11</td>\n",
       "      <td>0</td>\n",
       "      <td>Point</td>\n",
       "      <td>[-3.7069171, 40.4302937]</td>\n",
       "    </tr>\n",
       "    <tr>\n",
       "      <th>4</th>\n",
       "      <td>5</td>\n",
       "      <td>Malasaña</td>\n",
       "      <td>2</td>\n",
       "      <td>4</td>\n",
       "      <td>Calle Manuela Malasaña nº 5</td>\n",
       "      <td>1</td>\n",
       "      <td>0</td>\n",
       "      <td>24</td>\n",
       "      <td>12</td>\n",
       "      <td>12</td>\n",
       "      <td>0</td>\n",
       "      <td>Point</td>\n",
       "      <td>[-3.7025875, 40.4285524]</td>\n",
       "    </tr>\n",
       "  </tbody>\n",
       "</table>\n",
       "</div>"
      ],
      "text/plain": [
       "   id                name  light number  \\\n",
       "0   1    Puerta del Sol A      2     1a   \n",
       "1   2    Puerta del Sol B      1     1b   \n",
       "2   3         Miguel Moya      2      2   \n",
       "3   4  Plaza Conde Suchil      0      3   \n",
       "4   5            Malasaña      2      4   \n",
       "\n",
       "                                    address  activate  no_available  \\\n",
       "0                       Puerta del Sol nº 1         1             0   \n",
       "1                       Puerta del Sol nº 1         1             0   \n",
       "2                    Calle Miguel Moya nº 1         1             0   \n",
       "3  Plaza del Conde del Valle de Súchil nº 3         1             0   \n",
       "4               Calle Manuela Malasaña nº 5         1             0   \n",
       "\n",
       "   total_bases  dock_bikes  free_bases  reservations_count geometry_type  \\\n",
       "0           30          15          11                   0         Point   \n",
       "1           30          22           4                   0         Point   \n",
       "2           24          12          11                   0         Point   \n",
       "3           18           4          11                   0         Point   \n",
       "4           24          12          12                   0         Point   \n",
       "\n",
       "                      geometry_coordinates  \n",
       "0                 [-3.7018341, 40.4172137]  \n",
       "1  [-3.701602938060457, 40.41731271011562]  \n",
       "2                 [-3.7058415, 40.4205886]  \n",
       "3                 [-3.7069171, 40.4302937]  \n",
       "4                 [-3.7025875, 40.4285524]  "
      ]
     },
     "execution_count": 6,
     "metadata": {},
     "output_type": "execute_result"
    }
   ],
   "source": [
    "# Pandas!!!\n",
    "\n",
    "df_BiciMad = pd.read_sql_query(\"SELECT * FROM dbo.bicimad_stations\", engine)\n",
    "df_BiciMad.head()"
   ]
  },
  {
   "cell_type": "code",
   "execution_count": 8,
   "metadata": {},
   "outputs": [],
   "source": [
    "df_BiciMad.to_csv('../data/BiciMad.csv', index=False)"
   ]
  },
  {
   "cell_type": "code",
   "execution_count": 11,
   "metadata": {},
   "outputs": [
    {
     "data": {
      "text/plain": [
       "264"
      ]
     },
     "execution_count": 11,
     "metadata": {},
     "output_type": "execute_result"
    }
   ],
   "source": [
    "df_BiciMad.shape[0]"
   ]
  },
  {
   "cell_type": "code",
   "execution_count": null,
   "metadata": {},
   "outputs": [],
   "source": []
  }
 ],
 "metadata": {
  "interpreter": {
   "hash": "f72e6917b6f16e696186786cd8e09f8c34e6fed89ee06203567b7273a7eaaf8e"
  },
  "kernelspec": {
   "display_name": "Python 3.9.7 64-bit ('project_1_env': conda)",
   "language": "python",
   "name": "python3"
  },
  "language_info": {
   "codemirror_mode": {
    "name": "ipython",
    "version": 3
   },
   "file_extension": ".py",
   "mimetype": "text/x-python",
   "name": "python",
   "nbconvert_exporter": "python",
   "pygments_lexer": "ipython3",
   "version": "3.9.7"
  },
  "orig_nbformat": 4
 },
 "nbformat": 4,
 "nbformat_minor": 2
}
